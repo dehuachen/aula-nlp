{
 "cells": [
  {
   "cell_type": "markdown",
   "metadata": {},
   "source": [
    "# Jupyter Notebook\n",
    "\n",
    "Site: [Jupyter](https://jupyter.org/)\n",
    "\n",
    "\n",
    "![jupyter](img/jupyter.png)\n",
    "\n",
    "\n",
    "-----------------\n",
    "\n",
    "## Como instalar:\n",
    "```bash\n",
    "pip install jupyter\n",
    "```\n"
   ]
  },
  {
   "cell_type": "code",
   "execution_count": 25,
   "metadata": {},
   "outputs": [
    {
     "data": {
      "text/plain": [
       "15"
      ]
     },
     "execution_count": 25,
     "metadata": {},
     "output_type": "execute_result"
    }
   ],
   "source": [
    "a = 10\n",
    "b = 5\n",
    "a + b"
   ]
  },
  {
   "cell_type": "code",
   "execution_count": 26,
   "metadata": {},
   "outputs": [
    {
     "data": {
      "text/plain": [
       "2.0"
      ]
     },
     "execution_count": 26,
     "metadata": {},
     "output_type": "execute_result"
    }
   ],
   "source": [
    "a/b"
   ]
  },
  {
   "cell_type": "markdown",
   "metadata": {},
   "source": [
    "# NumPy\n",
    "\n",
    "Site: [NumPy](https://numpy.org/)\n",
    "\n",
    "-----------------\n",
    "\n",
    "### Sintaxe amigável\n",
    "### Mais rápido\n",
    "### Facilidade de trabalhar com matrizes\n",
    "\n",
    "-----------------\n",
    "\n",
    "\n",
    "## Como instalar:\n",
    "```bash\n",
    "pip install numpy\n",
    "```\n"
   ]
  },
  {
   "cell_type": "code",
   "execution_count": 27,
   "metadata": {},
   "outputs": [],
   "source": [
    "import numpy"
   ]
  },
  {
   "cell_type": "code",
   "execution_count": 28,
   "metadata": {},
   "outputs": [
    {
     "data": {
      "text/plain": [
       "array([0., 0., 0., 0., 0., 0., 0., 0., 0., 0.])"
      ]
     },
     "execution_count": 28,
     "metadata": {},
     "output_type": "execute_result"
    }
   ],
   "source": [
    "a = numpy.zeros(10)\n",
    "a"
   ]
  },
  {
   "cell_type": "code",
   "execution_count": 29,
   "metadata": {},
   "outputs": [
    {
     "data": {
      "text/plain": [
       "array([[0., 0.],\n",
       "       [0., 0.],\n",
       "       [0., 0.],\n",
       "       [0., 0.],\n",
       "       [0., 0.]])"
      ]
     },
     "execution_count": 29,
     "metadata": {},
     "output_type": "execute_result"
    }
   ],
   "source": [
    "a = a.reshape(5,2)\n",
    "a"
   ]
  },
  {
   "cell_type": "code",
   "execution_count": 30,
   "metadata": {},
   "outputs": [
    {
     "data": {
      "text/plain": [
       "array([[-0.48447952, -0.93052378],\n",
       "       [-0.52467369, -0.1373841 ],\n",
       "       [-0.26380462, -2.67002693],\n",
       "       [-2.46547147, -0.13692522],\n",
       "       [ 1.51307932,  0.96955492]])"
      ]
     },
     "execution_count": 30,
     "metadata": {},
     "output_type": "execute_result"
    }
   ],
   "source": [
    "b = numpy.random.randn(5,2)\n",
    "b"
   ]
  },
  {
   "cell_type": "code",
   "execution_count": 31,
   "metadata": {},
   "outputs": [
    {
     "data": {
      "text/plain": [
       "array([[-0.71695381,  1.57641224],\n",
       "       [-0.51831653, -0.11376325],\n",
       "       [ 0.24796928,  0.40372492],\n",
       "       [-0.42224998,  0.83046868],\n",
       "       [-0.19087504,  1.02652266]])"
      ]
     },
     "execution_count": 31,
     "metadata": {},
     "output_type": "execute_result"
    }
   ],
   "source": [
    "c = numpy.random.randn(5,2)\n",
    "c"
   ]
  },
  {
   "cell_type": "code",
   "execution_count": 32,
   "metadata": {},
   "outputs": [
    {
     "data": {
      "text/plain": [
       "array([[-1.20143333,  0.64588845],\n",
       "       [-1.04299022, -0.25114735],\n",
       "       [-0.01583534, -2.26630201],\n",
       "       [-2.88772145,  0.69354346],\n",
       "       [ 1.32220428,  1.99607759]])"
      ]
     },
     "execution_count": 32,
     "metadata": {},
     "output_type": "execute_result"
    }
   ],
   "source": [
    "b + c"
   ]
  },
  {
   "cell_type": "code",
   "execution_count": 35,
   "metadata": {},
   "outputs": [
    {
     "data": {
      "text/plain": [
       "array([-0.70750165, -0.3310289 , -1.46691578, -1.30119835,  1.24131712])"
      ]
     },
     "execution_count": 35,
     "metadata": {},
     "output_type": "execute_result"
    }
   ],
   "source": [
    "numpy.mean(b, axis=1)"
   ]
  },
  {
   "cell_type": "code",
   "execution_count": 34,
   "metadata": {},
   "outputs": [
    {
     "data": {
      "text/plain": [
       "array([1.26151638, 1.20701437])"
      ]
     },
     "execution_count": 34,
     "metadata": {},
     "output_type": "execute_result"
    }
   ],
   "source": [
    "numpy.std(b, axis=0)"
   ]
  },
  {
   "cell_type": "code",
   "execution_count": 36,
   "metadata": {},
   "outputs": [
    {
     "data": {
      "text/plain": [
       "array([[-0.48447952, -0.52467369, -0.26380462, -2.46547147,  1.51307932],\n",
       "       [-0.93052378, -0.1373841 , -2.67002693, -0.13692522,  0.96955492]])"
      ]
     },
     "execution_count": 36,
     "metadata": {},
     "output_type": "execute_result"
    }
   ],
   "source": [
    "b.transpose()"
   ]
  },
  {
   "cell_type": "code",
   "execution_count": 15,
   "metadata": {},
   "outputs": [
    {
     "data": {
      "text/plain": [
       "array([ 1.45848698,  1.11459271, -0.7599088 , -0.94332714,  0.93837767])"
      ]
     },
     "execution_count": 15,
     "metadata": {},
     "output_type": "execute_result"
    }
   ],
   "source": [
    "b[:, 0]"
   ]
  },
  {
   "cell_type": "markdown",
   "metadata": {},
   "source": [
    "# Pandas\n",
    "Site: [Pandas](https://pandas.pydata.org/)\n",
    "\n",
    "\n",
    "-----------------\n",
    "\n",
    "### Ferramenta para análise de dados\n",
    "\n",
    "-----------------\n",
    "\n",
    "\n",
    "## Como instalar:\n",
    "```bash\n",
    "pip install pandas\n",
    "```"
   ]
  },
  {
   "cell_type": "code",
   "execution_count": 38,
   "metadata": {},
   "outputs": [],
   "source": [
    "import pandas"
   ]
  },
  {
   "cell_type": "code",
   "execution_count": 39,
   "metadata": {},
   "outputs": [],
   "source": [
    "df = pandas.read_csv('data/train.csv')"
   ]
  },
  {
   "cell_type": "code",
   "execution_count": 40,
   "metadata": {},
   "outputs": [
    {
     "data": {
      "text/html": [
       "<div>\n",
       "<style scoped>\n",
       "    .dataframe tbody tr th:only-of-type {\n",
       "        vertical-align: middle;\n",
       "    }\n",
       "\n",
       "    .dataframe tbody tr th {\n",
       "        vertical-align: top;\n",
       "    }\n",
       "\n",
       "    .dataframe thead th {\n",
       "        text-align: right;\n",
       "    }\n",
       "</style>\n",
       "<table border=\"1\" class=\"dataframe\">\n",
       "  <thead>\n",
       "    <tr style=\"text-align: right;\">\n",
       "      <th></th>\n",
       "      <th>title</th>\n",
       "      <th>label_quality</th>\n",
       "      <th>language</th>\n",
       "      <th>category</th>\n",
       "    </tr>\n",
       "  </thead>\n",
       "  <tbody>\n",
       "    <tr>\n",
       "      <td>1888</td>\n",
       "      <td>Parlante Panasonic Sc Ua7 Rojo Torre Inalambri...</td>\n",
       "      <td>reliable</td>\n",
       "      <td>spanish</td>\n",
       "      <td>MINI_COMPONENT_SYSTEMS</td>\n",
       "    </tr>\n",
       "    <tr>\n",
       "      <td>7101</td>\n",
       "      <td>Gimnasio Funcional Raiders</td>\n",
       "      <td>reliable</td>\n",
       "      <td>spanish</td>\n",
       "      <td>UNIVERSAL_HOME_GYMS</td>\n",
       "    </tr>\n",
       "    <tr>\n",
       "      <td>3563</td>\n",
       "      <td>Botines Botitas Futbol Oferta</td>\n",
       "      <td>reliable</td>\n",
       "      <td>spanish</td>\n",
       "      <td>FOOTBALL_SHOES</td>\n",
       "    </tr>\n",
       "    <tr>\n",
       "      <td>3517</td>\n",
       "      <td>Aparelho Celular Lg Mg377a Completo Manual Fon...</td>\n",
       "      <td>reliable</td>\n",
       "      <td>portuguese</td>\n",
       "      <td>CELLPHONES</td>\n",
       "    </tr>\n",
       "    <tr>\n",
       "      <td>7493</td>\n",
       "      <td>Aaa*4 Panasonic R03ual Blyster</td>\n",
       "      <td>reliable</td>\n",
       "      <td>spanish</td>\n",
       "      <td>CELL_BATTERIES</td>\n",
       "    </tr>\n",
       "    <tr>\n",
       "      <td>1273</td>\n",
       "      <td>Retentor Do Comando De Valvulas 2.0 8v 87-97 M...</td>\n",
       "      <td>reliable</td>\n",
       "      <td>portuguese</td>\n",
       "      <td>ENGINE_VALVES_SPRING_RETAINERS</td>\n",
       "    </tr>\n",
       "    <tr>\n",
       "      <td>8758</td>\n",
       "      <td>Pedal Mxr M120 Auto Q Wah Envelope Filter -</td>\n",
       "      <td>reliable</td>\n",
       "      <td>portuguese</td>\n",
       "      <td>PEDAL_EFFECTS</td>\n",
       "    </tr>\n",
       "    <tr>\n",
       "      <td>8025</td>\n",
       "      <td>Bandeja Dianteira Esquerda Vw Golf 2003  1j040...</td>\n",
       "      <td>reliable</td>\n",
       "      <td>portuguese</td>\n",
       "      <td>AUTOMOTIVE_SUSPENSION_CONTROL_ARMS</td>\n",
       "    </tr>\n",
       "    <tr>\n",
       "      <td>1415</td>\n",
       "      <td>Maquillaje Idi Soft Matte Oil Free</td>\n",
       "      <td>reliable</td>\n",
       "      <td>spanish</td>\n",
       "      <td>FOUNDATIONS</td>\n",
       "    </tr>\n",
       "    <tr>\n",
       "      <td>9344</td>\n",
       "      <td>Pecera 50x27x30 Encuadrada En Hierro</td>\n",
       "      <td>reliable</td>\n",
       "      <td>spanish</td>\n",
       "      <td>FISH_TANKS</td>\n",
       "    </tr>\n",
       "  </tbody>\n",
       "</table>\n",
       "</div>"
      ],
      "text/plain": [
       "                                                  title label_quality  \\\n",
       "1888  Parlante Panasonic Sc Ua7 Rojo Torre Inalambri...      reliable   \n",
       "7101                         Gimnasio Funcional Raiders      reliable   \n",
       "3563                      Botines Botitas Futbol Oferta      reliable   \n",
       "3517  Aparelho Celular Lg Mg377a Completo Manual Fon...      reliable   \n",
       "7493                     Aaa*4 Panasonic R03ual Blyster      reliable   \n",
       "1273  Retentor Do Comando De Valvulas 2.0 8v 87-97 M...      reliable   \n",
       "8758        Pedal Mxr M120 Auto Q Wah Envelope Filter -      reliable   \n",
       "8025  Bandeja Dianteira Esquerda Vw Golf 2003  1j040...      reliable   \n",
       "1415                 Maquillaje Idi Soft Matte Oil Free      reliable   \n",
       "9344               Pecera 50x27x30 Encuadrada En Hierro      reliable   \n",
       "\n",
       "        language                            category  \n",
       "1888     spanish              MINI_COMPONENT_SYSTEMS  \n",
       "7101     spanish                 UNIVERSAL_HOME_GYMS  \n",
       "3563     spanish                      FOOTBALL_SHOES  \n",
       "3517  portuguese                          CELLPHONES  \n",
       "7493     spanish                      CELL_BATTERIES  \n",
       "1273  portuguese      ENGINE_VALVES_SPRING_RETAINERS  \n",
       "8758  portuguese                       PEDAL_EFFECTS  \n",
       "8025  portuguese  AUTOMOTIVE_SUSPENSION_CONTROL_ARMS  \n",
       "1415     spanish                         FOUNDATIONS  \n",
       "9344     spanish                          FISH_TANKS  "
      ]
     },
     "execution_count": 40,
     "metadata": {},
     "output_type": "execute_result"
    }
   ],
   "source": [
    "samples = df.sample(10)\n",
    "samples"
   ]
  },
  {
   "cell_type": "code",
   "execution_count": 41,
   "metadata": {},
   "outputs": [
    {
     "data": {
      "text/html": [
       "<div>\n",
       "<style scoped>\n",
       "    .dataframe tbody tr th:only-of-type {\n",
       "        vertical-align: middle;\n",
       "    }\n",
       "\n",
       "    .dataframe tbody tr th {\n",
       "        vertical-align: top;\n",
       "    }\n",
       "\n",
       "    .dataframe thead th {\n",
       "        text-align: right;\n",
       "    }\n",
       "</style>\n",
       "<table border=\"1\" class=\"dataframe\">\n",
       "  <thead>\n",
       "    <tr style=\"text-align: right;\">\n",
       "      <th></th>\n",
       "      <th>title</th>\n",
       "      <th>label_quality</th>\n",
       "      <th>language</th>\n",
       "      <th>category</th>\n",
       "    </tr>\n",
       "  </thead>\n",
       "  <tbody>\n",
       "    <tr>\n",
       "      <td>1888</td>\n",
       "      <td>Parlante Panasonic Sc Ua7 Rojo Torre Inalambri...</td>\n",
       "      <td>reliable</td>\n",
       "      <td>spanish</td>\n",
       "      <td>MINI_COMPONENT_SYSTEMS</td>\n",
       "    </tr>\n",
       "    <tr>\n",
       "      <td>7101</td>\n",
       "      <td>Gimnasio Funcional Raiders</td>\n",
       "      <td>reliable</td>\n",
       "      <td>spanish</td>\n",
       "      <td>UNIVERSAL_HOME_GYMS</td>\n",
       "    </tr>\n",
       "    <tr>\n",
       "      <td>3563</td>\n",
       "      <td>Botines Botitas Futbol Oferta</td>\n",
       "      <td>reliable</td>\n",
       "      <td>spanish</td>\n",
       "      <td>FOOTBALL_SHOES</td>\n",
       "    </tr>\n",
       "    <tr>\n",
       "      <td>7493</td>\n",
       "      <td>Aaa*4 Panasonic R03ual Blyster</td>\n",
       "      <td>reliable</td>\n",
       "      <td>spanish</td>\n",
       "      <td>CELL_BATTERIES</td>\n",
       "    </tr>\n",
       "    <tr>\n",
       "      <td>1415</td>\n",
       "      <td>Maquillaje Idi Soft Matte Oil Free</td>\n",
       "      <td>reliable</td>\n",
       "      <td>spanish</td>\n",
       "      <td>FOUNDATIONS</td>\n",
       "    </tr>\n",
       "    <tr>\n",
       "      <td>9344</td>\n",
       "      <td>Pecera 50x27x30 Encuadrada En Hierro</td>\n",
       "      <td>reliable</td>\n",
       "      <td>spanish</td>\n",
       "      <td>FISH_TANKS</td>\n",
       "    </tr>\n",
       "  </tbody>\n",
       "</table>\n",
       "</div>"
      ],
      "text/plain": [
       "                                                  title label_quality  \\\n",
       "1888  Parlante Panasonic Sc Ua7 Rojo Torre Inalambri...      reliable   \n",
       "7101                         Gimnasio Funcional Raiders      reliable   \n",
       "3563                      Botines Botitas Futbol Oferta      reliable   \n",
       "7493                     Aaa*4 Panasonic R03ual Blyster      reliable   \n",
       "1415                 Maquillaje Idi Soft Matte Oil Free      reliable   \n",
       "9344               Pecera 50x27x30 Encuadrada En Hierro      reliable   \n",
       "\n",
       "     language                category  \n",
       "1888  spanish  MINI_COMPONENT_SYSTEMS  \n",
       "7101  spanish     UNIVERSAL_HOME_GYMS  \n",
       "3563  spanish          FOOTBALL_SHOES  \n",
       "7493  spanish          CELL_BATTERIES  \n",
       "1415  spanish             FOUNDATIONS  \n",
       "9344  spanish              FISH_TANKS  "
      ]
     },
     "execution_count": 41,
     "metadata": {},
     "output_type": "execute_result"
    }
   ],
   "source": [
    "samples[samples.language == 'spanish']"
   ]
  },
  {
   "cell_type": "code",
   "execution_count": null,
   "metadata": {},
   "outputs": [],
   "source": []
  }
 ],
 "metadata": {
  "kernelspec": {
   "display_name": "Python (drug-disc)",
   "language": "python",
   "name": "drug-disc"
  },
  "language_info": {
   "codemirror_mode": {
    "name": "ipython",
    "version": 3
   },
   "file_extension": ".py",
   "mimetype": "text/x-python",
   "name": "python",
   "nbconvert_exporter": "python",
   "pygments_lexer": "ipython3",
   "version": "3.7.3"
  }
 },
 "nbformat": 4,
 "nbformat_minor": 2
}
